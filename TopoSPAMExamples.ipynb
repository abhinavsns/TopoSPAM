{
 "cells": [
  {
   "cell_type": "markdown",
   "id": "6c969ea3",
   "metadata": {},
   "source": [
    "# TopoSPAM - Topological Simulation Platform for Active Matter\n",
    "TopoSpam is a collection of software suite released under GPL 3.0 License for numerical simulation of active matter. It includes....\n"
   ]
  },
  {
   "cell_type": "code",
   "execution_count": 1,
   "id": "5594c736",
   "metadata": {},
   "outputs": [],
   "source": [
    "import TopoSpam"
   ]
  },
  {
   "cell_type": "code",
   "execution_count": 2,
   "id": "b400f900",
   "metadata": {},
   "outputs": [],
   "source": [
    "%matplotlib inline"
   ]
  },
  {
   "cell_type": "code",
   "execution_count": null,
   "id": "1947bd66",
   "metadata": {},
   "outputs": [],
   "source": []
  },
  {
   "cell_type": "code",
   "execution_count": null,
   "id": "c570c0b2",
   "metadata": {},
   "outputs": [],
   "source": []
  },
  {
   "cell_type": "code",
   "execution_count": null,
   "id": "ad461f4f",
   "metadata": {},
   "outputs": [],
   "source": []
  },
  {
   "cell_type": "code",
   "execution_count": null,
   "id": "8978494a",
   "metadata": {},
   "outputs": [],
   "source": []
  },
  {
   "cell_type": "code",
   "execution_count": null,
   "id": "30f2c2a7",
   "metadata": {},
   "outputs": [],
   "source": []
  },
  {
   "cell_type": "code",
   "execution_count": 3,
   "id": "5722d176",
   "metadata": {},
   "outputs": [
    {
     "data": {
      "text/plain": [
       "<module 'TopoSpam' from '/Users/absingh/git/TopoSPAM/TopoSpam.py'>"
      ]
     },
     "execution_count": 3,
     "metadata": {},
     "output_type": "execute_result"
    }
   ],
   "source": [
    "TopoSpam"
   ]
  },
  {
   "cell_type": "markdown",
   "id": "c8c17b66",
   "metadata": {},
   "source": [
    "## Two Dimenstional Active Fluid with Polar Order\n",
    "\n",
    "We solve the Ericksen-Leslie hydrodynamic model with periodic boundary conditions\n",
    "\n",
    "$$\t\\frac{D p_{\\alpha}}{D t}=\\frac{h_{\\alpha}}{\\gamma}-\\nu u_{\\alpha \\beta} p_{\\beta}+\\lambda\\Delta\\mu p_\\alpha+\n",
    "\t\t\\omega_{\\alpha \\beta} p_{\\beta}\\label{eqP1}$$\n",
    "$$\t\t\\partial_{\\beta} \\sigma_{\\alpha \\beta}-\\partial_{\\alpha} \\Pi=0 $$\n",
    "$$\t\t\\partial_{\\gamma} v_{\\gamma}=0$$\t\n",
    "$$\t\t2 \\eta u_{\\alpha \\beta}=\\sigma_{\\alpha \\beta}^{(s)}+\\zeta \\Delta \\mu\\left(p_{\\alpha} p_{\\beta}-\\frac{1}{2} p_{\\gamma} p_{\\gamma} \\delta_{\\alpha \\beta}\\right)\\nonumber-\\frac{\\nu}{2}\\left(p_{\\alpha} h_{\\beta}+p_{\\beta} h_{\\alpha}-p_{\\gamma} h_{\\gamma} \\delta_{\\alpha \\beta}\\right)$$\t\n",
    "\n",
    "where p is polarity vector. The meaning of the physical constants can be found in literature :\n",
    "\n",
    "(https://link.springer.com/article/10.1140/epje/s10189-021-00121-x)\n",
    "\n",
    "The main source code with intiial conditions is located in bin/Active2d.cpp. This file can be modified as per user needs for different geometries and initial conditions. "
   ]
  },
  {
   "cell_type": "code",
   "execution_count": 4,
   "id": "fe5b092d",
   "metadata": {},
   "outputs": [],
   "source": [
    "import TopoSpam\n",
    "#Setting Parameters for the simulation"
   ]
  },
  {
   "cell_type": "code",
   "execution_count": null,
   "id": "c30f0ef4",
   "metadata": {},
   "outputs": [],
   "source": []
  },
  {
   "cell_type": "code",
   "execution_count": 5,
   "id": "01decdf4",
   "metadata": {},
   "outputs": [],
   "source": [
    "Params = TopoSpam.ActiveFluidParameters()"
   ]
  },
  {
   "cell_type": "code",
   "execution_count": 6,
   "id": "e1765184",
   "metadata": {},
   "outputs": [],
   "source": [
    "#Grid Resolution -- Smaller grid resolution leads to faster simulation with lower accuracy\n",
    "Params.Gd_Sz=21\n",
    "#Splay Constant\n",
    "Params.Ks=1.0\n",
    "#Bend Constant\n",
    "Params.Kb=1.0\n",
    "#Activity \\Delta\\mu\n",
    "Params.dmu=10.0\n",
    "#Flow aligning or tumbling \\nu\n",
    "Params.nu=0.0\n",
    "#Contractile zeta=-1, Extentsile zeta=1\n",
    "Params.zeta=1.0\n",
    "#Lambda as linear Onsagar coefficient for Polarity\n",
    "Params.lamda=1.0\n",
    "#Fluid viscosity\n",
    "Params.eta=1.0\n",
    "#Rotational viscosity of Polarity\n",
    "Params.gama=1.0\n",
    "#Final Time\n",
    "Params.tf=1\n",
    "#Initial time step for the adaptive stepper\n",
    "Params.dt=1e-2\n",
    "#How often we would like to write the solution\n",
    "Params.wrat=1\n",
    "#Velocity relative error tolerance (Flow Solver)\n",
    "Params.Vtol=1e-2\n",
    "#Polarity absolute error tolerance (Time Integrator)\n",
    "Params.absttol=1e-3\n",
    "#Polarity relative error tolerance (Time Integrator)\n",
    "Params.relttol=1e-3"
   ]
  },
  {
   "cell_type": "code",
   "execution_count": 7,
   "id": "17083953",
   "metadata": {},
   "outputs": [
    {
     "name": "stdout",
     "output_type": "stream",
     "text": [
      "The simulation took 3.1903(CPU) ------ 3.34162(Wall) Seconds.\n",
      "\n",
      "Total number of Time steps taken by the adaptive stepper: 119\n",
      "\n"
     ]
    }
   ],
   "source": [
    "Steps=TopoSpam.RunActiveFluidSimulation(Params,4)"
   ]
  },
  {
   "cell_type": "code",
   "execution_count": null,
   "id": "5a788b82",
   "metadata": {},
   "outputs": [],
   "source": [
    "#Simulation Progress can be monitored but it slows down the simulation.\n",
    "Steps=TopoSpam.RunActiveFluidSimulationWithProgress(Params,4)"
   ]
  },
  {
   "cell_type": "code",
   "execution_count": null,
   "id": "7bbbaa4a",
   "metadata": {},
   "outputs": [],
   "source": []
  },
  {
   "cell_type": "code",
   "execution_count": null,
   "id": "8be1b8a0",
   "metadata": {},
   "outputs": [],
   "source": [
    "Plot=TopoSpam.VizualizeIteration(10)"
   ]
  },
  {
   "cell_type": "code",
   "execution_count": null,
   "id": "57660117",
   "metadata": {},
   "outputs": [],
   "source": [
    "TopoSpam.VizualizeAnimate(int(Steps))"
   ]
  },
  {
   "cell_type": "code",
   "execution_count": null,
   "id": "67d1ae61",
   "metadata": {},
   "outputs": [],
   "source": []
  },
  {
   "cell_type": "code",
   "execution_count": null,
   "id": "f9f7567a",
   "metadata": {},
   "outputs": [],
   "source": []
  },
  {
   "cell_type": "code",
   "execution_count": null,
   "id": "b913d539",
   "metadata": {},
   "outputs": [],
   "source": []
  },
  {
   "cell_type": "code",
   "execution_count": null,
   "id": "fc95f876",
   "metadata": {},
   "outputs": [],
   "source": []
  },
  {
   "cell_type": "code",
   "execution_count": null,
   "id": "17247ff5",
   "metadata": {},
   "outputs": [],
   "source": []
  },
  {
   "cell_type": "code",
   "execution_count": null,
   "id": "46924afa",
   "metadata": {},
   "outputs": [],
   "source": []
  },
  {
   "cell_type": "code",
   "execution_count": null,
   "id": "b8a0c305",
   "metadata": {},
   "outputs": [],
   "source": []
  },
  {
   "cell_type": "code",
   "execution_count": null,
   "id": "a842b1d7",
   "metadata": {},
   "outputs": [],
   "source": []
  },
  {
   "cell_type": "code",
   "execution_count": null,
   "id": "281dd36c",
   "metadata": {},
   "outputs": [],
   "source": []
  },
  {
   "cell_type": "code",
   "execution_count": null,
   "id": "222bb0cc",
   "metadata": {},
   "outputs": [],
   "source": []
  },
  {
   "cell_type": "code",
   "execution_count": null,
   "id": "23184486",
   "metadata": {},
   "outputs": [],
   "source": []
  }
 ],
 "metadata": {
  "kernelspec": {
   "display_name": "Python 3 (ipykernel)",
   "language": "python",
   "name": "python3"
  },
  "language_info": {
   "codemirror_mode": {
    "name": "ipython",
    "version": 3
   },
   "file_extension": ".py",
   "mimetype": "text/x-python",
   "name": "python",
   "nbconvert_exporter": "python",
   "pygments_lexer": "ipython3",
   "version": "3.7.13"
  }
 },
 "nbformat": 4,
 "nbformat_minor": 5
}
