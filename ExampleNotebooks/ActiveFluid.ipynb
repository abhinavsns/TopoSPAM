{
 "cells": [
  {
   "cell_type": "markdown",
   "id": "55a7423b",
   "metadata": {},
   "source": [
    "# TopoSPAM - Topological Simulation Platform for Active Matter\n",
    "TopoSpam is a collection of software suite released under GPL 3.0 License for numerical simulation of active matter. It includes....\n"
   ]
  },
  {
   "cell_type": "code",
   "execution_count": 1,
   "id": "d56727e1",
   "metadata": {},
   "outputs": [],
   "source": [
    "import TopoSPAM as TopoSPAM"
   ]
  },
  {
   "cell_type": "code",
   "execution_count": 2,
   "id": "ab696295",
   "metadata": {},
   "outputs": [],
   "source": [
    "%matplotlib inline"
   ]
  },
  {
   "cell_type": "code",
   "execution_count": 3,
   "id": "91a6aabf",
   "metadata": {},
   "outputs": [
    {
     "name": "stdout",
     "output_type": "stream",
     "text": [
      "Success: The path '/Users/absingh/git/TopoSPAM' contains the TopoSPAM repository.\n"
     ]
    }
   ],
   "source": [
    "TopoSPAM.set_repo_path('/Users/absingh/git/TopoSPAM')"
   ]
  },
  {
   "cell_type": "code",
   "execution_count": 4,
   "id": "1648fda5",
   "metadata": {},
   "outputs": [],
   "source": [
    "repo_path='/Users/absingh/git/TopoSPAM'"
   ]
  },
  {
   "cell_type": "code",
   "execution_count": null,
   "id": "7f27beb1",
   "metadata": {},
   "outputs": [],
   "source": []
  },
  {
   "cell_type": "code",
   "execution_count": null,
   "id": "435af76d",
   "metadata": {},
   "outputs": [],
   "source": []
  },
  {
   "cell_type": "code",
   "execution_count": null,
   "id": "ede3a215",
   "metadata": {},
   "outputs": [],
   "source": []
  },
  {
   "cell_type": "code",
   "execution_count": null,
   "id": "45672796",
   "metadata": {},
   "outputs": [],
   "source": []
  },
  {
   "cell_type": "markdown",
   "id": "5b7bda61",
   "metadata": {},
   "source": [
    "## Two Dimenstional Active Fluid with Polar Order\n",
    "\n",
    "We solve the Ericksen-Leslie hydrodynamic model with periodic boundary conditions\n",
    "\n",
    "$$\t\\frac{D p_{\\alpha}}{D t}=\\frac{h_{\\alpha}}{\\gamma}-\\nu u_{\\alpha \\beta} p_{\\beta}+\\lambda\\Delta\\mu p_\\alpha+\n",
    "\t\t\\omega_{\\alpha \\beta} p_{\\beta}\\label{eqP1}$$\n",
    "$$\t\t\\partial_{\\beta} \\sigma_{\\alpha \\beta}-\\partial_{\\alpha} \\Pi=0 $$\n",
    "$$\t\t\\partial_{\\gamma} v_{\\gamma}=0$$\t\n",
    "$$\t\t2 \\eta u_{\\alpha \\beta}=\\sigma_{\\alpha \\beta}^{(s)}+\\zeta \\Delta \\mu\\left(p_{\\alpha} p_{\\beta}-\\frac{1}{2} p_{\\gamma} p_{\\gamma} \\delta_{\\alpha \\beta}\\right)\\nonumber-\\frac{\\nu}{2}\\left(p_{\\alpha} h_{\\beta}+p_{\\beta} h_{\\alpha}-p_{\\gamma} h_{\\gamma} \\delta_{\\alpha \\beta}\\right)$$\t\n",
    "\n",
    "where p is polarity vector. The meaning of the physical constants can be found in literature :\n",
    "\n",
    "(https://link.springer.com/article/10.1140/epje/s10189-021-00121-x)\n",
    "\n",
    "The main source code with intiial conditions is located in bin/Active2d.cpp. This file can be modified as per user needs for different geometries and initial conditions. "
   ]
  },
  {
   "cell_type": "code",
   "execution_count": null,
   "id": "b862c7a1",
   "metadata": {},
   "outputs": [],
   "source": []
  },
  {
   "cell_type": "code",
   "execution_count": null,
   "id": "e6603528",
   "metadata": {},
   "outputs": [],
   "source": []
  },
  {
   "cell_type": "code",
   "execution_count": 5,
   "id": "50e66358",
   "metadata": {},
   "outputs": [],
   "source": [
    "Params = TopoSPAM.ActiveFluidParameters()"
   ]
  },
  {
   "cell_type": "code",
   "execution_count": 6,
   "id": "28f6b86e",
   "metadata": {},
   "outputs": [],
   "source": [
    "#Grid Resolution -- Smaller resolution leads to faster simulation with lower accuracy\n",
    "Params.Gd_Sz=18\n",
    "#Splay Constant\n",
    "Params.Ks=1.0\n",
    "#Bend Constant\n",
    "Params.Kb=1.0\n",
    "#Activity \\Delta\\mu\n",
    "Params.dmu=10.0\n",
    "#Flow aligning or tumbling \\nu\n",
    "Params.nu=0.0\n",
    "#Contractile zeta=-1, Extentsile zeta=1\n",
    "Params.zeta=1.0\n",
    "#Lambda as linear Onsagar coefficient for Polarity\n",
    "Params.lamda=1.0\n",
    "#Fluid viscosity\n",
    "Params.eta=1.0\n",
    "#Rotational viscosity of Polarity\n",
    "Params.gama=1.0\n",
    "#Final Time\n",
    "Params.tf=10\n",
    "#Initial time step for the adaptive stepper\n",
    "Params.dt=1e-2\n",
    "#How often we would like to write the solution\n",
    "Params.wrat=1\n",
    "#Velocity relative error tolerance (Flow Solver)\n",
    "Params.Vtol=1e-2\n",
    "#Polarity absolute error tolerance (Time Integrator)\n",
    "Params.absttol=1e-3\n",
    "#Polarity relative error tolerance (Time Integrator)\n",
    "Params.relttol=1e-3"
   ]
  },
  {
   "cell_type": "code",
   "execution_count": 7,
   "id": "49e72746",
   "metadata": {},
   "outputs": [],
   "source": [
    "import os\n",
    "import subprocess"
   ]
  },
  {
   "cell_type": "code",
   "execution_count": 8,
   "id": "1569650f",
   "metadata": {},
   "outputs": [],
   "source": [
    "output_dir = os.path.join(repo_path, 'bin', 'Active2dOutput')"
   ]
  },
  {
   "cell_type": "code",
   "execution_count": 11,
   "id": "5202bd4f",
   "metadata": {},
   "outputs": [
    {
     "name": "stdout",
     "output_type": "stream",
     "text": [
      "The simulation took 18.7009(CPU) ------ 20.8523(Wall) Seconds.\n",
      "Total number of Time steps taken by the adaptive stepper: 698\n"
     ]
    }
   ],
   "source": [
    "cmd = \"source /usr/local/openfpm/source/openfpm_vars && mpirun -np 4 ../Active2d ../active2d.csv\"\n",
    "try:\n",
    "    p = subprocess.Popen(cmd, stdout=subprocess.PIPE, cwd=output_dir,shell=True)\n",
    "    stdout, stderr = p.communicate()\n",
    "    # Check for errors\n",
    "    if p.returncode != 0:\n",
    "        print(f\"Command failed with error code {p.returncode}\")\n",
    "        if stderr:\n",
    "            print(f\"Error message: {stderr.decode('utf-8')}\")\n",
    "    else:\n",
    "        # Split the output into lines and print the last two lines\n",
    "        output_lines = stdout.decode('utf-8').splitlines()\n",
    "        print(output_lines[-2])\n",
    "        print(output_lines[-1])\n",
    "\n",
    "except Exception as e:\n",
    "    print(f\"Failed to run command: {e}\")"
   ]
  },
  {
   "cell_type": "code",
   "execution_count": null,
   "id": "e2c98256",
   "metadata": {},
   "outputs": [],
   "source": [
    "Steps=TopoSPAM.RunActiveFluidSimulation(Params,1)"
   ]
  },
  {
   "cell_type": "code",
   "execution_count": 9,
   "id": "d91efb0e",
   "metadata": {},
   "outputs": [
    {
     "ename": "NameError",
     "evalue": "name 'TopoSpam' is not defined",
     "output_type": "error",
     "traceback": [
      "\u001b[0;31m---------------------------------------------------------------------------\u001b[0m",
      "\u001b[0;31mNameError\u001b[0m                                 Traceback (most recent call last)",
      "\u001b[0;32m/tmp/ipykernel_93931/1939933880.py\u001b[0m in \u001b[0;36m<module>\u001b[0;34m\u001b[0m\n\u001b[1;32m      1\u001b[0m \u001b[0;31m#Simulation Progress can be monitored but it slows down the simulation.\u001b[0m\u001b[0;34m\u001b[0m\u001b[0;34m\u001b[0m\u001b[0;34m\u001b[0m\u001b[0m\n\u001b[0;32m----> 2\u001b[0;31m \u001b[0mSteps\u001b[0m\u001b[0;34m=\u001b[0m\u001b[0mTopoSpam\u001b[0m\u001b[0;34m.\u001b[0m\u001b[0mRunActiveFluidSimulationWithProgress\u001b[0m\u001b[0;34m(\u001b[0m\u001b[0mParams\u001b[0m\u001b[0;34m,\u001b[0m\u001b[0;36m4\u001b[0m\u001b[0;34m)\u001b[0m\u001b[0;34m\u001b[0m\u001b[0;34m\u001b[0m\u001b[0m\n\u001b[0m",
      "\u001b[0;31mNameError\u001b[0m: name 'TopoSpam' is not defined"
     ]
    }
   ],
   "source": [
    "#Simulation Progress can be monitored but it slows down the simulation.\n",
    "Steps=TopoSpam.RunActiveFluidSimulationWithProgress(Params,4)"
   ]
  },
  {
   "cell_type": "code",
   "execution_count": null,
   "id": "e91a5c79",
   "metadata": {},
   "outputs": [],
   "source": [
    "Plot=TopoSpam.VizualizeIteration(10)"
   ]
  },
  {
   "cell_type": "code",
   "execution_count": null,
   "id": "7ed38f86",
   "metadata": {},
   "outputs": [],
   "source": [
    "TopoSpam.VizualizeAnimate(finalStep=int(Steps),jump=1)"
   ]
  }
 ],
 "metadata": {
  "kernelspec": {
   "display_name": "Python 3 (ipykernel)",
   "language": "python",
   "name": "python3"
  },
  "language_info": {
   "codemirror_mode": {
    "name": "ipython",
    "version": 3
   },
   "file_extension": ".py",
   "mimetype": "text/x-python",
   "name": "python",
   "nbconvert_exporter": "python",
   "pygments_lexer": "ipython3",
   "version": "3.7.13"
  }
 },
 "nbformat": 4,
 "nbformat_minor": 5
}
